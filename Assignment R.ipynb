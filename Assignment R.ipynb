{
 "cells": [
  {
   "cell_type": "markdown",
   "id": "ee8c437d-2c54-4305-b242-bc797007efb3",
   "metadata": {},
   "source": [
    "#Explain the key features of Python that make it a popular choice for programming"
   ]
  },
  {
   "cell_type": "code",
   "execution_count": null,
   "id": "fc04b278-f5e7-4c5d-8e0c-39016ff6b318",
   "metadata": {},
   "outputs": [],
   "source": [
    "# Python's popularity in programming can be attributed to several key features that make it an attractive choice for developers across various domains. Amongst some of the main feature is Readability and Simplicity. Python’s syntax is clear and easy to understand, which enhances readability and makes it accessible for both beginners and experienced programmers"
   ]
  },
  {
   "cell_type": "code",
   "execution_count": null,
   "id": "2a0aa3b4-0151-4106-b88a-1e3f51fde4f0",
   "metadata": {},
   "outputs": [],
   "source": [
    "# 2.Describe the role of predefined keywords in Python and provide examples of how they are used in a \n",
    "programming "
   ]
  },
  {
   "cell_type": "code",
   "execution_count": null,
   "id": "e7c73ba0-ac9c-4491-a6da-3e99e26efc5c",
   "metadata": {},
   "outputs": [],
   "source": [
    "# Predefined keywords in Python are reserved words that have special meanings in the language's syntax. These keywords cannot be used as identifiers. \n",
    "# if, elif, else\n",
    "# for, while, break, continue\n",
    "# def, return, with, as"
   ]
  },
  {
   "cell_type": "code",
   "execution_count": null,
   "id": "2ed6f688-2aac-4b88-8e44-0eae3fb50eb1",
   "metadata": {},
   "outputs": [],
   "source": [
    "# 3.Compare and contrast mutable and immutable objects in Python with examples0"
   ]
  },
  {
   "cell_type": "code",
   "execution_count": 4,
   "id": "e27e3e89-902e-4226-a230-7d4c822b75b9",
   "metadata": {},
   "outputs": [
    {
     "name": "stdout",
     "output_type": "stream",
     "text": [
      "138394595430720\n"
     ]
    }
   ],
   "source": [
    "# Mutable objects can be changed or modified after their creation. This means that the content or value of the object can be altered without changing its identity.\n",
    "\n",
    "my_list = [1, 2, 3]\n",
    "print(id(my_list))"
   ]
  },
  {
   "cell_type": "code",
   "execution_count": 5,
   "id": "3be1aa49-481c-4b3d-8c8f-91cbdf455119",
   "metadata": {},
   "outputs": [
    {
     "name": "stdout",
     "output_type": "stream",
     "text": [
      "138394898360176\n",
      "hello world\n",
      "138394900960240\n"
     ]
    }
   ],
   "source": [
    "# Immutable objects cannot be changed once they are created. Any modification to an immutable object results in the creation of a new object\n",
    "\n",
    "s = \"hello\"\n",
    "print(id(s)) \n",
    "s += \" world\"  \n",
    "print(s)   \n",
    "print(id(s))"
   ]
  },
  {
   "cell_type": "code",
   "execution_count": null,
   "id": "f2a2e9d7-a4cc-46b8-884c-632bca659f41",
   "metadata": {},
   "outputs": [],
   "source": [
    "# 4.Discuss the different types of operators in Python and provide examples of how they are used"
   ]
  },
  {
   "cell_type": "code",
   "execution_count": null,
   "id": "34b10046-25b1-4142-a2a9-807889335302",
   "metadata": {},
   "outputs": [],
   "source": [
    "# Python supports various types of operators to perform operations on variables"
   ]
  },
  {
   "cell_type": "code",
   "execution_count": 8,
   "id": "89404fe8-d38d-4eda-8ebb-399e506f95f7",
   "metadata": {},
   "outputs": [
    {
     "name": "stdout",
     "output_type": "stream",
     "text": [
      "13\n",
      "30\n",
      "3.3333333333333335\n",
      "3\n"
     ]
    }
   ],
   "source": [
    "#Additional\n",
    "\n",
    "a = 10\n",
    "b = 3\n",
    "print(a + b) \n",
    "print(a * b)  \n",
    "print(a / b) \n",
    "print(a // b)"
   ]
  },
  {
   "cell_type": "code",
   "execution_count": 9,
   "id": "e02f3396-6be4-4124-9496-4ec7cd1ffedf",
   "metadata": {},
   "outputs": [
    {
     "name": "stdout",
     "output_type": "stream",
     "text": [
      "True\n",
      "False\n"
     ]
    }
   ],
   "source": [
    "# Comparison\n",
    "\n",
    "print (a>=b)\n",
    "print (a==b)"
   ]
  },
  {
   "cell_type": "code",
   "execution_count": 2,
   "id": "706708f6-8c20-4985-9eca-a0afaa29210d",
   "metadata": {},
   "outputs": [
    {
     "name": "stdout",
     "output_type": "stream",
     "text": [
      "false\n",
      "true\n",
      "False\n"
     ]
    }
   ],
   "source": [
    "# Logical Operators\n",
    "\n",
    "x= 'true'\n",
    "y= 'false'\n",
    "print(x and y) \n",
    "print(x or y)\n",
    "print(not x)"
   ]
  },
  {
   "cell_type": "code",
   "execution_count": 3,
   "id": "6a5a8222-52d0-4b1b-8fb6-a627232a1378",
   "metadata": {},
   "outputs": [
    {
     "name": "stdout",
     "output_type": "stream",
     "text": [
      "1\n",
      "7\n",
      "6\n"
     ]
    }
   ],
   "source": [
    "# Bitwise Operators\n",
    "\n",
    "e= 5 \n",
    "f= 3  \n",
    "print(e & f)  \n",
    "print(e | f) \n",
    "print(e ^ f)"
   ]
  },
  {
   "cell_type": "code",
   "execution_count": null,
   "id": "75ffe692-b218-417f-80f9-8cdd67e1efae",
   "metadata": {},
   "outputs": [],
   "source": []
  },
  {
   "cell_type": "code",
   "execution_count": null,
   "id": "c11d70d1-2f76-4bb4-b1c8-ff3cba16398a",
   "metadata": {},
   "outputs": [],
   "source": [
    "# 5.Explain the concept of type casting in Python with examples0"
   ]
  },
  {
   "cell_type": "code",
   "execution_count": null,
   "id": "c4d97ee8-c57a-46d5-a552-3b65d1d28721",
   "metadata": {},
   "outputs": [],
   "source": [
    "Type casting in Python refers to converting a variable from one data type to another"
   ]
  },
  {
   "cell_type": "code",
   "execution_count": 6,
   "id": "bd72f73c-03f2-4f82-806c-545df8815b0d",
   "metadata": {},
   "outputs": [
    {
     "name": "stdout",
     "output_type": "stream",
     "text": [
      "45.0\n"
     ]
    }
   ],
   "source": [
    "d= 45\n",
    "e= float(45)\n",
    "print (e)"
   ]
  },
  {
   "cell_type": "code",
   "execution_count": null,
   "id": "b8d7ec19-9ff9-496f-817e-c9bf94e3f973",
   "metadata": {},
   "outputs": [],
   "source": [
    "# 6.How do conditional statements work in Python? Illustrate with examples0"
   ]
  },
  {
   "cell_type": "code",
   "execution_count": null,
   "id": "2c2c7ea4-11fc-454d-ab1a-c0e269ad66b4",
   "metadata": {},
   "outputs": [],
   "source": [
    "# Conditional statements in Python control the flow of a program based on certain conditions."
   ]
  },
  {
   "cell_type": "code",
   "execution_count": 3,
   "id": "6fc5d411-335e-466d-9450-ffe0d3802c16",
   "metadata": {},
   "outputs": [
    {
     "name": "stdout",
     "output_type": "stream",
     "text": [
      "You are a minor.\n"
     ]
    }
   ],
   "source": [
    "age = 16\n",
    "if age >= 18:\n",
    "    print(\"You are an adult.\")\n",
    "else:\n",
    "    print(\"You are a minor.\")"
   ]
  },
  {
   "cell_type": "code",
   "execution_count": 5,
   "id": "b75a9ac0-9327-46d4-b88c-e8a9ae1b2bfa",
   "metadata": {},
   "outputs": [
    {
     "name": "stdout",
     "output_type": "stream",
     "text": [
      "It's hot.\n"
     ]
    }
   ],
   "source": [
    "temperature = 30\n",
    "if temperature < 0:\n",
    "    print(\"It's freezing.\")\n",
    "elif temperature < 20:\n",
    "    print(\"It's cold.\")\n",
    "else:\n",
    "    print(\"It's hot.\")"
   ]
  },
  {
   "cell_type": "code",
   "execution_count": null,
   "id": "ed7fc3d6-c796-45c9-a0c5-ef3eddf6d9fb",
   "metadata": {},
   "outputs": [],
   "source": [
    "# 7.Describe the different types of loops in Python and their use cases with examples.The for loop in Python is used to iterate over a sequence .    while loop in Python repeatedly executes a block of code as long as a specified condition is true. "
   ]
  },
  {
   "cell_type": "code",
   "execution_count": 1,
   "id": "d283e435-cfb3-4647-a78a-b13f8f652060",
   "metadata": {},
   "outputs": [
    {
     "name": "stdout",
     "output_type": "stream",
     "text": [
      "5\n",
      "6\n",
      "8\n",
      "9\n"
     ]
    }
   ],
   "source": [
    "a=[5,6,8,9]\n",
    "for a in a:\n",
    "    print (a)"
   ]
  },
  {
   "cell_type": "code",
   "execution_count": 2,
   "id": "392c9af8-7360-4739-8b35-6122557fb2af",
   "metadata": {},
   "outputs": [
    {
     "name": "stdout",
     "output_type": "stream",
     "text": [
      "0\n",
      "1\n",
      "2\n",
      "3\n",
      "4\n"
     ]
    }
   ],
   "source": [
    "count = 0\n",
    "while count < 5:\n",
    "    print(count)\n",
    "    count += 1"
   ]
  },
  {
   "cell_type": "code",
   "execution_count": null,
   "id": "9358e5e4-e2a5-4583-8dbf-d5209825d8b9",
   "metadata": {},
   "outputs": [],
   "source": []
  }
 ],
 "metadata": {
  "kernelspec": {
   "display_name": "Python 3 (ipykernel)",
   "language": "python",
   "name": "python3"
  },
  "language_info": {
   "codemirror_mode": {
    "name": "ipython",
    "version": 3
   },
   "file_extension": ".py",
   "mimetype": "text/x-python",
   "name": "python",
   "nbconvert_exporter": "python",
   "pygments_lexer": "ipython3",
   "version": "3.10.8"
  }
 },
 "nbformat": 4,
 "nbformat_minor": 5
}
